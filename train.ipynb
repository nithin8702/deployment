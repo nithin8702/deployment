{
 "cells": [
  {
   "cell_type": "code",
   "execution_count": 6,
   "metadata": {},
   "outputs": [],
   "source": [
    "# Importing all required libraries\n",
    "import os\n",
    "import pickle\n",
    "import pandas as pd\n",
    "import numpy as np\n",
    "from sklearn.svm import SVC\n",
    "from sklearn.linear_model import LogisticRegression\n",
    "from sklearn.preprocessing import LabelEncoder\n",
    "from sklearn.model_selection import train_test_split\n",
    "import warnings\n",
    "warnings.filterwarnings('ignore')"
   ]
  },
  {
   "cell_type": "code",
   "execution_count": 7,
   "metadata": {},
   "outputs": [],
   "source": [
    "class mushroom_classifier:\n",
    "    \n",
    "    def __init__(self):\n",
    "        ''' This class is for training the model '''\n",
    "        \n",
    "    def load_data(self):\n",
    "        ''' Load the dataset and encode the columns '''\n",
    "        data = pd.read_csv(\"train_dataset.csv\")\n",
    "        labelencoder=LabelEncoder()\n",
    "        for col in data.columns:\n",
    "            data[col] = labelencoder.fit_transform(data[col])\n",
    "        return data\n",
    "    \n",
    "    def split(self, df):\n",
    "        ''' To split dataset into train and test by some ratio '''\n",
    "        y = df.type\n",
    "        x = df.drop(columns=['type'])\n",
    "        self.x_train, self.x_test, self.y_train, self.y_test = train_test_split(x, y, test_size=0.3, random_state = 0)\n",
    "    \n",
    "    def build_model(self, name):\n",
    "        ''' To build 2 models - SVC and LogisticRegression  '''\n",
    "        if name == 'SVC':\n",
    "            model = SVC()\n",
    "            model.fit(self.x_train, self.y_train)\n",
    "        elif name == 'LR':\n",
    "            model = LogisticRegression()\n",
    "            model.fit(self.x_train, self.y_train)\n",
    "        return model\n",
    "    \n",
    "    def save_model(self, model, name):\n",
    "        ''' To save the model into pickle format for model prediction '''\n",
    "        with open(name + '.pkl', 'wb') as model_pkl:\n",
    "            pickle.dump(model, model_pkl, protocol=2)\n",
    "        "
   ]
  },
  {
   "cell_type": "code",
   "execution_count": 8,
   "metadata": {},
   "outputs": [],
   "source": [
    "def main():\n",
    "    ''' method to split, clean, build and save the model. '''\n",
    "    clf = mushroom_classifier()\n",
    "    df = clf.load_data()\n",
    "    clf.split(df)\n",
    "    class_names = ['edible', 'poisonous']\n",
    "    svc = clf.build_model('SVC')\n",
    "    clf.save_model(svc, 'svc_model')\n",
    "    lr = clf.build_model('LR')\n",
    "    clf.save_model(lr, 'lr_model')"
   ]
  },
  {
   "cell_type": "code",
   "execution_count": 9,
   "metadata": {},
   "outputs": [],
   "source": [
    "if __name__ == '__main__':\n",
    "    ''' Starting point of the file. '''\n",
    "    main()"
   ]
  },
  {
   "cell_type": "code",
   "execution_count": 10,
   "metadata": {},
   "outputs": [
    {
     "name": "stdout",
     "output_type": "stream",
     "text": [
      "END OF NOTEBOOK\n"
     ]
    }
   ],
   "source": [
    "print('END OF NOTEBOOK')"
   ]
  }
 ],
 "metadata": {
  "kernelspec": {
   "display_name": "Python 3",
   "language": "python",
   "name": "python3"
  },
  "language_info": {
   "codemirror_mode": {
    "name": "ipython",
    "version": 3
   },
   "file_extension": ".py",
   "mimetype": "text/x-python",
   "name": "python",
   "nbconvert_exporter": "python",
   "pygments_lexer": "ipython3",
   "version": "3.8.3"
  }
 },
 "nbformat": 4,
 "nbformat_minor": 4
}
